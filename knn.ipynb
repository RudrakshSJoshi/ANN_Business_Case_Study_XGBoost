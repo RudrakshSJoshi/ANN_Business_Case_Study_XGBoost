{
 "cells": [
  {
   "cell_type": "code",
   "execution_count": null,
   "id": "72446d07",
   "metadata": {},
   "outputs": [],
   "source": [
    "# Import necessary libraries\n",
    "import numpy as np\n",
    "import pandas as pd\n",
    "import matplotlib.pyplot as plt\n",
    "from matplotlib import gridspec"
   ]
  },
  {
   "cell_type": "code",
   "execution_count": null,
   "id": "517bb56f",
   "metadata": {},
   "outputs": [],
   "source": [
    "# Load the dataset\n",
    "data = pd.read_csv(\"D:\\\\HP\\\\users\\\\OneDrive\\\\Desktop\\\\AI ML\\\\train and test\\\\classification_train.csv\")"
   ]
  },
  {
   "cell_type": "code",
   "execution_count": null,
   "id": "ae8cfb13",
   "metadata": {
    "lines_to_next_cell": 1
   },
   "outputs": [],
   "source": [
    "# Extract features and labels\n",
    "x_train = data.iloc[:28001, 2:].values / 255\n",
    "y_train = data.iloc[:28001, 1].values\n",
    "x_test = data.iloc[28001:, 2:].values / 255\n",
    "y_test = data.iloc[28001:, 1].values"
   ]
  },
  {
   "cell_type": "code",
   "execution_count": null,
   "id": "b76ee347",
   "metadata": {
    "lines_to_next_cell": 1
   },
   "outputs": [],
   "source": [
    "# Define the KNN prediction function\n",
    "def predict_knn(X_train, y_train, X_test, k=3):\n",
    "    predictions = [predict(x, X_train, y_train, k) for x in X_test]\n",
    "    return np.array(predictions)"
   ]
  },
  {
   "cell_type": "code",
   "execution_count": null,
   "id": "4581ce65",
   "metadata": {
    "lines_to_next_cell": 1
   },
   "outputs": [],
   "source": [
    "def predict(x, X_train, y_train, k):\n",
    "    distances = [np.linalg.norm(x - x_train) for x_train in X_train]\n",
    "    k_indices = np.argsort(distances)[:k]\n",
    "    k_nearest_labels = [y_train[i] for i in k_indices]\n",
    "    most_common = np.bincount(k_nearest_labels).argmax()\n",
    "    return most_common"
   ]
  },
  {
   "cell_type": "code",
   "execution_count": null,
   "id": "af66a514",
   "metadata": {},
   "outputs": [],
   "source": [
    "# Data Visualization\n",
    "fig, axes = plt.subplots(1, 1, figsize=(16, 5))"
   ]
  },
  {
   "cell_type": "code",
   "execution_count": null,
   "id": "37986b86",
   "metadata": {},
   "outputs": [],
   "source": [
    "# Visualize distribution of labels\n",
    "axes.hist(y_train, bins=np.arange(11)-0.5, rwidth=0.8, color='skyblue', edgecolor='black')\n",
    "axes.set_title('Distribution of Labels')\n",
    "axes.set_xlabel('Label')\n",
    "axes.set_ylabel('Frequency')\n",
    "plt.show()"
   ]
  },
  {
   "cell_type": "code",
   "execution_count": null,
   "id": "f6a0e824",
   "metadata": {},
   "outputs": [],
   "source": [
    "# Data Visualization\n",
    "fig = plt.figure(figsize=(12, 8))\n",
    "gs = gridspec.GridSpec(4, 5)\n",
    "m, n = x_train.shape\n",
    "indices = np.random.choice(m, size=20, replace=False)"
   ]
  },
  {
   "cell_type": "code",
   "execution_count": null,
   "id": "d54ab6e3",
   "metadata": {},
   "outputs": [],
   "source": [
    "for i, index in enumerate(indices):\n",
    "    ax = plt.subplot(gs[i])\n",
    "    ax.imshow(x_train[index].reshape(28, 28), cmap='gray')  # Reshape for display\n",
    "    ax.set_title(f\"Class {int(y_train[index])}\")\n",
    "    ax.axis('off')"
   ]
  },
  {
   "cell_type": "code",
   "execution_count": null,
   "id": "872735b4",
   "metadata": {},
   "outputs": [],
   "source": [
    "plt.show()"
   ]
  },
  {
   "cell_type": "code",
   "execution_count": null,
   "id": "54ca3130",
   "metadata": {},
   "outputs": [],
   "source": [
    "# Make predictions\n",
    "predictions = predict_knn(x_train, y_train, x_test, k=5)"
   ]
  },
  {
   "cell_type": "code",
   "execution_count": null,
   "id": "5ef5facd",
   "metadata": {},
   "outputs": [],
   "source": [
    "# Calculate accuracy\n",
    "accuracy = np.sum(predictions == y_test) / y_test.shape[0]\n",
    "print(\"Accuracy:\", accuracy)"
   ]
  }
 ],
 "metadata": {
  "jupytext": {
   "cell_metadata_filter": "-all",
   "main_language": "python",
   "notebook_metadata_filter": "-all"
  },
  "language_info": {
   "name": "python"
  }
 },
 "nbformat": 4,
 "nbformat_minor": 5
}
