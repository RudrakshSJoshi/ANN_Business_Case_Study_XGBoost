{
 "cells": [
  {
   "cell_type": "code",
   "execution_count": null,
   "id": "022d21d1",
   "metadata": {},
   "outputs": [],
   "source": [
    "# Import necessary libraries\n",
    "import numpy as np\n",
    "import pandas as pd\n",
    "import matplotlib.pyplot as plt\n",
    "from matplotlib import gridspec"
   ]
  },
  {
   "cell_type": "code",
   "execution_count": null,
   "id": "d8bc5725",
   "metadata": {
    "lines_to_next_cell": 1
   },
   "outputs": [],
   "source": [
    "# Activation Functions\n",
    "def tanh(z):\n",
    "    return np.tanh(z)"
   ]
  },
  {
   "cell_type": "code",
   "execution_count": null,
   "id": "ae3cb072",
   "metadata": {
    "lines_to_next_cell": 1
   },
   "outputs": [],
   "source": [
    "def tanh_d(z):\n",
    "    return 1 - (np.tanh(z))**2"
   ]
  },
  {
   "cell_type": "code",
   "execution_count": null,
   "id": "47d10000",
   "metadata": {
    "lines_to_next_cell": 1
   },
   "outputs": [],
   "source": [
    "def relu(z):\n",
    "    return np.maximum(0, z)"
   ]
  },
  {
   "cell_type": "code",
   "execution_count": null,
   "id": "5f8be075",
   "metadata": {
    "lines_to_next_cell": 1
   },
   "outputs": [],
   "source": [
    "def relu_d(z):\n",
    "    return z > 0"
   ]
  },
  {
   "cell_type": "code",
   "execution_count": null,
   "id": "fb8faab8",
   "metadata": {
    "lines_to_next_cell": 1
   },
   "outputs": [],
   "source": [
    "def sigmoid(z):\n",
    "    return 1 / (1 + np.exp(-z))"
   ]
  },
  {
   "cell_type": "code",
   "execution_count": null,
   "id": "088c01a1",
   "metadata": {
    "lines_to_next_cell": 1
   },
   "outputs": [],
   "source": [
    "def sigmoid_d(z):\n",
    "    s = sigmoid(z)\n",
    "    d = s * (1 - s)\n",
    "    return d"
   ]
  },
  {
   "cell_type": "code",
   "execution_count": null,
   "id": "69db04a2",
   "metadata": {
    "lines_to_next_cell": 1
   },
   "outputs": [],
   "source": [
    "def softmax(z):\n",
    "    z_ = np.exp(z)\n",
    "    y_pred = z_ / z_.sum(axis=1, keepdims=True)\n",
    "    return y_pred"
   ]
  },
  {
   "cell_type": "code",
   "execution_count": null,
   "id": "e195fa0f",
   "metadata": {
    "lines_to_next_cell": 1
   },
   "outputs": [],
   "source": [
    "# Helper function to predict labels\n",
    "def predict(y_pred):\n",
    "    return np.argmax(y_pred, axis=1)"
   ]
  },
  {
   "cell_type": "code",
   "execution_count": null,
   "id": "d21ac169",
   "metadata": {
    "lines_to_next_cell": 1
   },
   "outputs": [],
   "source": [
    "# Helper function to calculate hits and accuracy\n",
    "def hits(y_pred, y):\n",
    "    count = 0\n",
    "    s = set()\n",
    "    y = predict(y)\n",
    "    y_pred = predict(y_pred)\n",
    "    for i in range(y.shape[0]):\n",
    "        if(y[i] == y_pred[i]):\n",
    "            s.add(y[i])\n",
    "            count += 1\n",
    "    accuracy = (count / m) * 100\n",
    "    print(s)\n",
    "    return count, accuracy"
   ]
  },
  {
   "cell_type": "code",
   "execution_count": null,
   "id": "b23fb71d",
   "metadata": {
    "lines_to_next_cell": 1
   },
   "outputs": [],
   "source": [
    "# Gradient Descent for updating weights and biases\n",
    "def gradient_descent(a_in, y, a_out, w, b, lr):\n",
    "    err = a_out - y\n",
    "    dw = err.T @ a_in / m\n",
    "    db = np.sum(err, axis=0) / m\n",
    "    w = w - lr * dw\n",
    "    b = b - lr * db\n",
    "    return w, b, err"
   ]
  },
  {
   "cell_type": "code",
   "execution_count": null,
   "id": "c8f8ff28",
   "metadata": {
    "lines_to_next_cell": 1
   },
   "outputs": [],
   "source": [
    "# Forward Propagation\n",
    "def forward_prop(a_in, w, b, ltype):\n",
    "    a_out = a_in @ w.T + b\n",
    "    if ltype == \"tanh\":\n",
    "        return tanh(a_out)\n",
    "    elif ltype == \"relu\":\n",
    "        return relu(a_out)\n",
    "    elif ltype == \"softmax\":\n",
    "        return softmax(a_out)\n",
    "    elif ltype == \"sigmoid\":\n",
    "        return sigmoid(a_out)\n",
    "    else:\n",
    "        return a_out"
   ]
  },
  {
   "cell_type": "code",
   "execution_count": null,
   "id": "25fad614",
   "metadata": {
    "lines_to_next_cell": 1
   },
   "outputs": [],
   "source": [
    "# Backward Propagation\n",
    "def backward_prop(a_in, a_out, prev_err, w, ltype):\n",
    "    err = prev_err @ w\n",
    "\n",
    "    if ltype == \"relu\":\n",
    "        err *= relu_d(a_out)\n",
    "    elif ltype == \"tanh\":\n",
    "        err *= tanh_d(a_out)\n",
    "    elif ltype == \"sigmoid\":\n",
    "        err *= sigmoid_d(a_out)\n",
    "\n",
    "    dw = err.T @ a_in / m\n",
    "    db = np.sum(err, axis=0) / m\n",
    "    return dw, db, err"
   ]
  },
  {
   "cell_type": "code",
   "execution_count": null,
   "id": "8960f596",
   "metadata": {
    "lines_to_next_cell": 1
   },
   "outputs": [],
   "source": [
    "# Neural Network Training\n",
    "def neural_network(x, y, n, units, ltype, lr, itera):\n",
    "    w = []\n",
    "    b = []\n",
    "    activation = []\n",
    "    activation.append(x)\n",
    "\n",
    "    for j in range(itera+1):\n",
    "        activation[0] = x\n",
    "\n",
    "        for i in range(n):\n",
    "            if j == 0:\n",
    "                wi = np.random.randn(units[i], activation[i].shape[1])\n",
    "                bi = np.zeros((1, units[i]))\n",
    "                w.append(wi)\n",
    "                b.append(bi)\n",
    "                ai = forward_prop(activation[i], w[i], b[i], ltype[i])\n",
    "                activation.append(ai)\n",
    "            else:\n",
    "                activation[i+1] = forward_prop(\n",
    "                    activation[i], w[i], b[i], ltype[i])\n",
    "\n",
    "        for i in range(n, 0, -1):\n",
    "            if i == n:\n",
    "                w[n-1], b[n-1], err1 = gradient_descent(\n",
    "                    activation[n-1], y, activation[n], w[n-1], b[n-1], lr)\n",
    "            else:\n",
    "                dw, db, err1 = backward_prop(\n",
    "                    activation[i-1], activation[i], err1, w[i], ltype[i-1])\n",
    "                w[i-1] = w[i-1] - dw * lr\n",
    "                b[i-1] = b[i-1] - db * lr\n",
    "\n",
    "        if j % 10 == 0:\n",
    "            count, accuracy = hits(activation[n], y)\n",
    "            print(f\"no. of correct predictions after {j} iterations: {count} and accuracy is: {accuracy}\")\n",
    "            print()\n",
    "\n",
    "    return w, b"
   ]
  },
  {
   "cell_type": "code",
   "execution_count": null,
   "id": "55bb36d4",
   "metadata": {},
   "outputs": [],
   "source": [
    "# Load dataset\n",
    "data = pd.read_csv(\"D:\\\\HP\\\\users\\\\OneDrive\\\\Desktop\\\\AI ML\\\\train and test\\\\classification_train.csv\")\n",
    "x = data.iloc[:29000, 2:].values / 255\n",
    "y = data.iloc[:29000, 1:2].values\n",
    "m, n = x.shape\n",
    "lr = 1e-3\n",
    "itera = 100\n",
    "y2 = np.zeros((m, 10))\n",
    "for i in range(m):\n",
    "    y2[i, y[i]] = 1"
   ]
  },
  {
   "cell_type": "code",
   "execution_count": null,
   "id": "6002d14e",
   "metadata": {},
   "outputs": [],
   "source": [
    "# User Input for Neural Network Architecture\n",
    "n = int(input(\"Enter the number of layers in the neural network: \"))\n",
    "units = []\n",
    "ltype = []\n",
    "for i in range(n):\n",
    "    unit = int(input(f\"Enter the number of units in layer {i+1}: \"))\n",
    "    units.append(unit)\n",
    "    ltyp = input(f\"Enter the type of activation in layer {i+1}: \")\n",
    "    ltype.append(ltyp)\n",
    "    print(\"\\n\\n\")"
   ]
  },
  {
   "cell_type": "code",
   "execution_count": null,
   "id": "f7a5bdbe",
   "metadata": {},
   "outputs": [],
   "source": [
    "# Train the Neural Network\n",
    "w, b = neural_network(x, y2, n, units, ltype, lr, itera)"
   ]
  },
  {
   "cell_type": "code",
   "execution_count": null,
   "id": "5ca7654e",
   "metadata": {},
   "outputs": [],
   "source": [
    "# Data Visualization\n",
    "fig, axes = plt.subplots(1, 1, figsize=(16, 5))"
   ]
  },
  {
   "cell_type": "code",
   "execution_count": null,
   "id": "5db07c22",
   "metadata": {},
   "outputs": [],
   "source": [
    "# Visualize distribution of labels\n",
    "axes.hist(predict(activation[n]), bins=np.arange(11)-0.5,rwidth=0.8, color='skyblue', edgecolor='black')\n",
    "axes.set_title('Distribution of Predicted Labels')\n",
    "axes.set_xlabel('Label')\n",
    "axes.set_ylabel('Frequency')\n",
    "plt.show()"
   ]
  },
  {
   "cell_type": "code",
   "execution_count": null,
   "id": "a2104463",
   "metadata": {},
   "outputs": [],
   "source": [
    "# Data Visualization\n",
    "fig = plt.figure(figsize=(12, 8))\n",
    "gs = gridspec.GridSpec(4, 5)\n",
    "m, n = x.shape\n",
    "indices = np.random.choice(m, size=20, replace=False)"
   ]
  },
  {
   "cell_type": "code",
   "execution_count": null,
   "id": "8b190403",
   "metadata": {},
   "outputs": [],
   "source": [
    "for i, index in enumerate(indices):\n",
    "    ax = plt.subplot(gs[i])\n",
    "    ax.imshow(x[index].reshape(28, 28), cmap='gray')  # Reshape for display\n",
    "    ax.set_title(f\"Predicted: {predict(activation[n])[index]}\")\n",
    "    ax.axis('off')"
   ]
  },
  {
   "cell_type": "code",
   "execution_count": null,
   "id": "c8722c7c",
   "metadata": {},
   "outputs": [],
   "source": [
    "plt.show()"
   ]
  },
  {
   "cell_type": "code",
   "execution_count": null,
   "id": "06aa116f",
   "metadata": {},
   "outputs": [],
   "source": [
    "# Make predictions on the test set\n",
    "x_test = data.iloc[29001:, 2:].values / 255\n",
    "y_test = data.iloc[29001:, 1].values\n",
    "y_pred_test = forward_prop(x_test, w[0], b[0], ltype[0])"
   ]
  },
  {
   "cell_type": "code",
   "execution_count": null,
   "id": "d4b22be0",
   "metadata": {},
   "outputs": [],
   "source": [
    "# Visualize distribution of predicted labels on the test set\n",
    "fig, axes = plt.subplots(1, 1, figsize=(16, 5))\n",
    "axes.hist(predict(y_pred_test), bins=np.arange(11)-0.5, rwidth=0.8, color='skyblue', edgecolor='black')\n",
    "axes.set_title('Distribution of Predicted Labels on Test Set')\n",
    "axes.set_xlabel('Label')\n",
    "axes.set_ylabel('Frequency')\n",
    "plt.show()"
   ]
  },
  {
   "cell_type": "code",
   "execution_count": null,
   "id": "12981a9c",
   "metadata": {},
   "outputs": [],
   "source": [
    "# Data Visualization for the test set\n",
    "fig = plt.figure(figsize=(12, 8))\n",
    "gs = gridspec.GridSpec(4, 5)\n",
    "m_test, _ = x_test.shape\n",
    "indices_test = np.random.choice(m_test, size=20, replace=False)"
   ]
  },
  {
   "cell_type": "code",
   "execution_count": null,
   "id": "b86eb06d",
   "metadata": {},
   "outputs": [],
   "source": [
    "for i, index in enumerate(indices_test):\n",
    "    ax = plt.subplot(gs[i])\n",
    "    ax.imshow(x_test[index].reshape(28, 28), cmap='gray')  # Reshape for display\n",
    "    ax.set_title(f\"Predicted: {predict(y_pred_test)[index]} | Actual: {y_test[index]}\")\n",
    "    ax.axis('off')"
   ]
  },
  {
   "cell_type": "code",
   "execution_count": null,
   "id": "3aa41af8",
   "metadata": {},
   "outputs": [],
   "source": [
    "plt.show()"
   ]
  },
  {
   "cell_type": "code",
   "execution_count": null,
   "id": "f0d6840c",
   "metadata": {
    "lines_to_next_cell": 2
   },
   "outputs": [],
   "source": [
    "# Calculate accuracy on the test set\n",
    "count_test, accuracy_test = hits(y_pred_test, y_test)\n",
    "print(f\"Correct predictions on the test set: {count_test} and accuracy is: {accuracy_test}\")"
   ]
  }
 ],
 "metadata": {
  "jupytext": {
   "cell_metadata_filter": "-all",
   "encoding": "# coding: utf-8",
   "executable": "/usr/bin/env python",
   "main_language": "python",
   "notebook_metadata_filter": "-all"
  },
  "language_info": {
   "name": "python"
  }
 },
 "nbformat": 4,
 "nbformat_minor": 5
}
