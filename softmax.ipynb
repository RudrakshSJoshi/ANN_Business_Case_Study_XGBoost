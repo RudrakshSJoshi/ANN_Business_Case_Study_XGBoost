{
 "cells": [
  {
   "cell_type": "code",
   "execution_count": null,
   "id": "0d8265d6",
   "metadata": {},
   "outputs": [],
   "source": [
    "# Import necessary libraries\n",
    "import numpy as np\n",
    "import pandas as pd\n",
    "import matplotlib.pyplot as plt\n",
    "from matplotlib import gridspec"
   ]
  },
  {
   "cell_type": "code",
   "execution_count": null,
   "id": "ed182e5c",
   "metadata": {},
   "outputs": [],
   "source": [
    "# Load the dataset\n",
    "data = pd.read_csv(\"D:\\\\HP\\\\users\\\\OneDrive\\\\Desktop\\\\AI ML\\\\train and test\\\\classification_train.csv\")"
   ]
  },
  {
   "cell_type": "code",
   "execution_count": null,
   "id": "40a14a1e",
   "metadata": {
    "lines_to_next_cell": 1
   },
   "outputs": [],
   "source": [
    "# Extract features and labels\n",
    "x_train = data.iloc[:29001, 2:].values / 255\n",
    "y_train = data.iloc[:29001, 1].values"
   ]
  },
  {
   "cell_type": "code",
   "execution_count": null,
   "id": "8218859e",
   "metadata": {
    "lines_to_next_cell": 1
   },
   "outputs": [],
   "source": [
    "# Define the softmax function\n",
    "def softmax(x, w, b):\n",
    "    m, n = x.shape\n",
    "    y_ = x @ w + b\n",
    "    y_ = np.exp(y_)\n",
    "    y_pred = y_ / y_.sum(axis=1, keepdims=True)\n",
    "    return y_pred"
   ]
  },
  {
   "cell_type": "code",
   "execution_count": null,
   "id": "c022826b",
   "metadata": {
    "lines_to_next_cell": 1
   },
   "outputs": [],
   "source": [
    "# Define the prediction function\n",
    "def predict(x, w, b):\n",
    "    m, n = x.shape\n",
    "    y_ = x @ w + b\n",
    "    y_ = np.exp(y_)\n",
    "    y_pred = y_ / y_.sum(axis=1, keepdims=True)\n",
    "    y_pred = np.argmax(y_pred, axis=1)\n",
    "    return y_pred"
   ]
  },
  {
   "cell_type": "code",
   "execution_count": null,
   "id": "b0b02d28",
   "metadata": {
    "lines_to_next_cell": 1
   },
   "outputs": [],
   "source": [
    "# Define the gradient calculation function\n",
    "def gradient(x, y, y_pred):\n",
    "    err = y_pred - y\n",
    "    dw = x.T @ err\n",
    "    db = np.sum(err, axis=0)\n",
    "    return dw / m, db / m"
   ]
  },
  {
   "cell_type": "code",
   "execution_count": null,
   "id": "b306d7c2",
   "metadata": {
    "lines_to_next_cell": 1
   },
   "outputs": [],
   "source": [
    "# Define the cost computation function\n",
    "def compute_cost(x, y, y_pred):\n",
    "    loss = -y * np.log(y_pred)\n",
    "    cost = np.mean(loss, axis=0)\n",
    "    return cost"
   ]
  },
  {
   "cell_type": "code",
   "execution_count": null,
   "id": "1e42ea14",
   "metadata": {
    "lines_to_next_cell": 1
   },
   "outputs": [],
   "source": [
    "# Define the gradient descent function\n",
    "def gradient_descent(x, y, w, b, lr, itera):\n",
    "    for i in range(itera + 1):\n",
    "        y_pred = softmax(x, w, b)\n",
    "        dw, db = gradient(x, y, y_pred)\n",
    "        w = w - lr * dw\n",
    "        b = b - lr * db\n",
    "        if i % 50 == 0:\n",
    "            cost = compute_cost(x, y, y_pred)\n",
    "            print(f\"After {i} iteration: {cost}\\n\")"
   ]
  },
  {
   "cell_type": "code",
   "execution_count": null,
   "id": "f918cb9f",
   "metadata": {},
   "outputs": [],
   "source": [
    "# Visualize distribution of labels\n",
    "            plt.hist(y_train, bins=np.arange(11)-0.5, rwidth=0.8, color='skyblue', edgecolor='black')\n",
    "            plt.title('Distribution of Labels')\n",
    "            plt.xlabel('Label')\n",
    "            plt.ylabel('Frequency')\n",
    "            plt.show()"
   ]
  },
  {
   "cell_type": "code",
   "execution_count": null,
   "id": "3a780203",
   "metadata": {},
   "outputs": [],
   "source": [
    "# Visualize 20 sample images\n",
    "            fig = plt.figure(figsize=(12, 8))\n",
    "            gs = gridspec.GridSpec(4, 5)\n",
    "            indices = np.random.choice(m, size=20, replace=False)\n",
    "\n",
    "            for j, index in enumerate(indices):\n",
    "                ax = plt.subplot(gs[j])\n",
    "                ax.imshow(x_train[index].reshape(28, 28), cmap='gray')\n",
    "                ax.set_title(f\"Class {int(y_train[index])}\")\n",
    "                ax.axis('off')\n",
    "\n",
    "            plt.show()"
   ]
  },
  {
   "cell_type": "code",
   "execution_count": null,
   "id": "54cd6e1f",
   "metadata": {},
   "outputs": [],
   "source": [
    "# Load the dataset\n",
    "data = pd.read_csv(\"D:\\\\HP\\\\users\\\\OneDrive\\\\Desktop\\\\AI ML\\\\train and test\\\\classification_train.csv\")\n",
    "x = data.iloc[:29000, 2:].values / 255\n",
    "y_train = data.iloc[:29000, 1:2].values\n",
    "m, n = x.shape\n",
    "lr = 7e-4\n",
    "itera = 500\n",
    "w = np.zeros((n, 10))\n",
    "b = np.zeros((1, 10))\n",
    "y2 = np.zeros((m, 10))"
   ]
  },
  {
   "cell_type": "code",
   "execution_count": null,
   "id": "7c98c3e8",
   "metadata": {},
   "outputs": [],
   "source": [
    "# One-hot encode the labels\n",
    "for i in range(m):\n",
    "    y2[i, y_train[i]] = 1"
   ]
  },
  {
   "cell_type": "code",
   "execution_count": null,
   "id": "ff5334be",
   "metadata": {},
   "outputs": [],
   "source": [
    "# Print initial values\n",
    "print(\"COST\")\n",
    "print(\"\\n\\n\")"
   ]
  },
  {
   "cell_type": "code",
   "execution_count": null,
   "id": "27070a91",
   "metadata": {},
   "outputs": [],
   "source": [
    "# Run gradient descent\n",
    "w, b = gradient_descent(x, y2, w, b, lr, itera)"
   ]
  },
  {
   "cell_type": "code",
   "execution_count": null,
   "id": "1bedd9b3",
   "metadata": {},
   "outputs": [],
   "source": [
    "# Print final values\n",
    "print(\"The w and b respectively are : \")\n",
    "print(\"\\n\\n\")\n",
    "print(w)\n",
    "print(\"\\n\\n\\n\")\n",
    "print(b)"
   ]
  },
  {
   "cell_type": "code",
   "execution_count": null,
   "id": "b5c926bc",
   "metadata": {},
   "outputs": [],
   "source": [
    "# Make predictions on the test set\n",
    "x_test = data.iloc[29990:, 2:].values / 255\n",
    "y_pred_test = predict(x_test, w, b)\n",
    "print(y_pred_test)"
   ]
  }
 ],
 "metadata": {
  "jupytext": {
   "cell_metadata_filter": "-all",
   "main_language": "python",
   "notebook_metadata_filter": "-all"
  }
 },
 "nbformat": 4,
 "nbformat_minor": 5
}
