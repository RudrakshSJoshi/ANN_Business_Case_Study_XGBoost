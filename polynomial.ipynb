{
 "cells": [
  {
   "cell_type": "code",
   "execution_count": null,
   "id": "52d8c31a",
   "metadata": {},
   "outputs": [],
   "source": []
  },
  {
   "cell_type": "code",
   "execution_count": null,
   "id": "a26f8603",
   "metadata": {
    "lines_to_next_cell": 2
   },
   "outputs": [],
   "source": [
    "\n",
    "\n",
    "import numpy as np \n",
    "import pandas as pd\n",
    "import matplotlib.pyplot as plt"
   ]
  },
  {
   "cell_type": "code",
   "execution_count": null,
   "id": "a3bb3cbd",
   "metadata": {
    "lines_to_next_cell": 2
   },
   "outputs": [],
   "source": [
    "\n",
    "\n",
    "def predict(x,w,b) :\n",
    "    y_pred = x@w+b\n",
    "    return y_pred"
   ]
  },
  {
   "cell_type": "code",
   "execution_count": null,
   "id": "77b69543",
   "metadata": {
    "lines_to_next_cell": 2
   },
   "outputs": [],
   "source": [
    "\n",
    "\n",
    "def zscore(x) :\n",
    "    mean = np.mean(x,axis = 0) \n",
    "    std = np.std(x,axis = 0)\n",
    "    x_norm  = (x-mean)/std\n",
    "    return x_norm"
   ]
  },
  {
   "cell_type": "code",
   "execution_count": null,
   "id": "2c8be94c",
   "metadata": {
    "lines_to_next_cell": 2
   },
   "outputs": [],
   "source": [
    "\n",
    "\n",
    "def compute_cost(x,y,y_pred) :\n",
    "    m , n = x.shape\n",
    "    err = y_pred - y\n",
    "    cost = err*err\n",
    "    cost= np.mean(cost)\n",
    "    return cost/2"
   ]
  },
  {
   "cell_type": "code",
   "execution_count": null,
   "id": "f2cb7716",
   "metadata": {
    "lines_to_next_cell": 2
   },
   "outputs": [],
   "source": [
    "\n",
    "\n",
    "def gradient(x,y,y_pred) :\n",
    "    err = y_pred - y\n",
    "    dw = x.T@err\n",
    "    db = np.sum(err)\n",
    "    return dw/m , db/m"
   ]
  },
  {
   "cell_type": "code",
   "execution_count": null,
   "id": "cada98d0",
   "metadata": {},
   "outputs": [],
   "source": [
    "\n",
    "\n",
    "def gradient_descent(x,y,w,b,lr,itera) :\n",
    "    for i in range(itera+1) :\n",
    "        y_pred = x@w+b\n",
    "        dw, db = gradient(x,y,y_pred)\n",
    "        w = w - lr*dw\n",
    "        b = b - lr*db\n",
    "        if((i%1000)==0) :\n",
    "            cost = compute_cost(x,y,y_pred) \n",
    "            print(f\"After {i} iterations : {cost}\")\n",
    "    return w,b\n",
    "        \n",
    "        \n"
   ]
  },
  {
   "cell_type": "code",
   "execution_count": null,
   "id": "4e290ef2",
   "metadata": {
    "lines_to_next_cell": 2
   },
   "outputs": [],
   "source": [
    "\n",
    "\n",
    "data = pd.read_csv(\"D:\\\\HP\\\\users\\\\OneDrive\\\\Desktop\\\\AI ML\\\\train and test\\\\polynomial_train.csv\")\n",
    "x_train = np.zeros((45000,1))\n",
    "y = data.iloc[:45000,4:5].values\n",
    "a = data.iloc[:45000,1:2].values\n",
    "b = data.iloc[:45000,2:3].values\n",
    "c = data.iloc[:45000,3:4].values\n",
    "a= zscore(a)\n",
    "b = zscore(b)\n",
    "c =zscore(c)\n",
    "d= 6\n",
    "for i in range(d) :\n",
    "    for j in range(d) :\n",
    "        for k in range(d) :\n",
    "            if((k+j+i)<d) :\n",
    "                x_train = np.c_[x_train,(a**(i))*(b**(j))*(c**(k))]\n",
    "                \n",
    "x = np.delete(x_train,0, 1) \n",
    "m,n = x.shape\n",
    "lr =1.302e-3\n",
    "itera = 30000\n",
    "w = np.zeros((n,1))\n",
    "b = 0\n",
    "w,b = gradient_descent(x,y,w,b,lr,itera)"
   ]
  },
  {
   "cell_type": "code",
   "execution_count": null,
   "id": "f00e90df",
   "metadata": {
    "lines_to_next_cell": 2
   },
   "outputs": [],
   "source": [
    "\n",
    "\n",
    "x_test = np.zeros((5000,1))\n",
    "a = data.iloc[45000:,1:2].values\n",
    "b = data.iloc[45000:,2:3].values\n",
    "c = data.iloc[45000:,3:4].values\n",
    "a= zscore(a)\n",
    "b = zscore(b)\n",
    "c =zscore(c)\n",
    "\n",
    "\n",
    "for i in range(d) :\n",
    "    for j in range(d) :\n",
    "        for k in range(d) :\n",
    "            if((k+j+i)<d) :\n",
    "                x_test = np.c_[x_test,(a**(i))*(b**(j))*(c**(k))]\n",
    "                \n",
    "\n",
    "x =np.delete(x_test,0, 1)\n",
    "y =predict(x,w,b)\n",
    "print(y)\n",
    "print()\n",
    "print((data.iloc[45000:,4:5].values))"
   ]
  },
  {
   "cell_type": "code",
   "execution_count": null,
   "id": "cf9e9274",
   "metadata": {
    "lines_to_next_cell": 2
   },
   "outputs": [],
   "source": [
    "\n",
    "\n",
    "data1 = pd.read_csv(\"D:\\\\HP\\\\users\\\\OneDrive\\\\Desktop\\\\AI ML\\\\train and test\\\\polynomial_test_data.csv\")\n",
    "x_test = np.zeros((20000,1))\n",
    "a = data1.iloc[:,1:2].values\n",
    "b= data1.iloc[:,2:3].values\n",
    "c= data1.iloc[:,3:4].values\n",
    "a= zscore(a)\n",
    "b = zscore(b)\n",
    "c =zscore(c)\n",
    "for i in range(d) :\n",
    "    for j in range(d) :\n",
    "        for k in range(d) :\n",
    "            if((k+j+i)<d) :\n",
    "                x_test = np.c_[x_test,(a**(i))*(b**(j))*(c**(k))]\n",
    "x =np.delete(x_test,0, 1)\n",
    "y =predict(x,w,b)\n",
    "print(y)"
   ]
  },
  {
   "cell_type": "code",
   "execution_count": null,
   "id": "8f26dbb4",
   "metadata": {
    "lines_to_next_cell": 2
   },
   "outputs": [],
   "source": [
    "\n",
    "\n"
   ]
  }
 ],
 "metadata": {
  "jupytext": {
   "cell_metadata_filter": "-all",
   "encoding": "# coding: utf-8",
   "executable": "/usr/bin/env python",
   "main_language": "python",
   "notebook_metadata_filter": "-all"
  }
 },
 "nbformat": 4,
 "nbformat_minor": 5
}
